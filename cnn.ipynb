{
  "cells": [
    {
      "cell_type": "code",
      "execution_count": 1,
      "metadata": {
        "id": "6v1TFGipHK0b"
      },
      "outputs": [],
      "source": [
        "import torch\n",
        "import torch.nn as nn\n",
        "from torch.utils.data import DataLoader\n",
        "from torchvision import datasets, transforms"
      ]
    },
    {
      "cell_type": "code",
      "execution_count": 2,
      "metadata": {
        "colab": {
          "base_uri": "https://localhost:8080/"
        },
        "id": "1-MLj9wZHRiJ",
        "outputId": "61d9c26f-3a8c-47ca-d8ab-c216d3714e58"
      },
      "outputs": [
        {
          "name": "stdout",
          "output_type": "stream",
          "text": [
            "Train Data Size: 60000\n",
            "Test Data Size: 10000\n"
          ]
        }
      ],
      "source": [
        "transform = transforms.ToTensor()\n",
        "\n",
        "train_data = datasets.MNIST(root = 'mnist_train', train= True, transform= transform, download=True)\n",
        "test_data = datasets.MNIST(root = 'mnist_test', train= False, transform= transform, download=True)\n",
        "\n",
        "print(\"Train Data Size: {}\".format(len(train_data)))\n",
        "print(\"Test Data Size: {}\".format(len(test_data)))"
      ]
    },
    {
      "cell_type": "code",
      "execution_count": 3,
      "metadata": {
        "colab": {
          "base_uri": "https://localhost:8080/"
        },
        "id": "4n-zvgFoHTzq",
        "outputId": "6c5f3f49-2bde-4bbb-d5dc-b879ca19c4e4"
      },
      "outputs": [
        {
          "name": "stdout",
          "output_type": "stream",
          "text": [
            "cpu\n"
          ]
        }
      ],
      "source": [
        "from torch.nn.modules.activation import ReLU\n",
        "\n",
        "class CnnModel(nn.Module):\n",
        "  def __init__(self):\n",
        "    super(CnnModel, self).__init__()\n",
        "        # 첫번째층\n",
        "        # ImgIn shape=(?, 28, 28, 1)\n",
        "        #    Conv     -> (?, 28, 28, 32)\n",
        "        #    Pool     -> (?, 14, 14, 32)\n",
        "    self.layer1 = torch.nn.Sequential(\n",
        "        torch.nn.Conv2d(1, 32, kernel_size=3, stride=1, padding=1),\n",
        "        torch.nn.ReLU(),\n",
        "        torch.nn.MaxPool2d(kernel_size=2, stride=2))\n",
        "\n",
        "    # 두번째층\n",
        "    # ImgIn shape=(?, 14, 14, 32)\n",
        "    #    Conv      ->(?, 14, 14, 64)\n",
        "    #    Pool      ->(?, 7, 7, 64)\n",
        "    self.layer2 = torch.nn.Sequential(\n",
        "        torch.nn.Conv2d(32, 64, kernel_size=3, stride=1, padding=1),\n",
        "        torch.nn.ReLU(),\n",
        "        torch.nn.MaxPool2d(kernel_size=2, stride=2))\n",
        "\n",
        "    # 전결합층 7x7x64 inputs -> 10 outputs\n",
        "    self.fc = torch.nn.Linear(7 * 7 * 64, 10, bias=True)\n",
        "\n",
        "    # 전결합층 한정으로 가중치 초기화\n",
        "    torch.nn.init.xavier_uniform_(self.fc.weight)\n",
        "\n",
        "  def forward(self, x):\n",
        "    out = self.layer1(x)\n",
        "    out = self.layer2(out)\n",
        "    # 전결합층을 위해서 Flatten\n",
        "    out = out.view(out.size(0), -1)   \n",
        "    out = self.fc(out)\n",
        "\n",
        "    return out\n",
        "\n",
        "device = 'cuda' if torch.cuda.is_available() else 'cpu'\n",
        "print(device)\n",
        "model = CnnModel().to(device)"
      ]
    },
    {
      "cell_type": "markdown",
      "metadata": {
        "id": "UiN5AVKi6Jok"
      },
      "source": []
    },
    {
      "cell_type": "code",
      "execution_count": 4,
      "metadata": {
        "id": "CNnTTVJcIKDY"
      },
      "outputs": [],
      "source": [
        "learning_rate = 0.001\n",
        "\n",
        "criterion = torch.nn.CrossEntropyLoss().to(device)    # 비용 함수에 소프트맥스 함수 포함되어져 있음.\n",
        "optimizer = torch.optim.Adam(model.parameters(), lr=learning_rate)"
      ]
    },
    {
      "cell_type": "code",
      "execution_count": 5,
      "metadata": {
        "colab": {
          "base_uri": "https://localhost:8080/"
        },
        "id": "E7o6QacT6ZMj",
        "outputId": "9a236fd4-65cd-4e18-9335-1522a0e9db4c"
      },
      "outputs": [
        {
          "name": "stdout",
          "output_type": "stream",
          "text": [
            "600\n"
          ]
        }
      ],
      "source": [
        "epoch = 15\n",
        "batch_size = 100\n",
        "\n",
        "data_loader = torch.utils.data.DataLoader(dataset=train_data,\n",
        "                                          batch_size=batch_size,\n",
        "                                          shuffle=True,\n",
        "                                          drop_last=True)\n",
        "\n",
        "total_batch = len(data_loader)\n",
        "\n",
        "print(total_batch)"
      ]
    },
    {
      "cell_type": "code",
      "execution_count": 6,
      "metadata": {
        "id": "JBVr0rTrQy7A"
      },
      "outputs": [
        {
          "name": "stdout",
          "output_type": "stream",
          "text": [
            "[Epoch:    1] cost = 0.231674239\n",
            "[Epoch:    2] cost = 0.0591264851\n",
            "[Epoch:    3] cost = 0.043221157\n",
            "[Epoch:    4] cost = 0.0351576097\n",
            "[Epoch:    5] cost = 0.0275410283\n",
            "[Epoch:    6] cost = 0.0235254485\n",
            "[Epoch:    7] cost = 0.0203048754\n",
            "[Epoch:    8] cost = 0.0169209484\n",
            "[Epoch:    9] cost = 0.0134118348\n",
            "[Epoch:   10] cost = 0.0110896016\n",
            "[Epoch:   11] cost = 0.00968120713\n",
            "[Epoch:   12] cost = 0.00958529767\n",
            "[Epoch:   13] cost = 0.00718325656\n",
            "[Epoch:   14] cost = 0.00618957868\n",
            "[Epoch:   15] cost = 0.0050613815\n"
          ]
        }
      ],
      "source": [
        "for e in range(epoch):\n",
        "    avg_cost = 0\n",
        "\n",
        "    # 미니 배치 단위로 꺼내온다. X는 미니 배치, Y는 레이블.\n",
        "    for X, Y in data_loader: \n",
        "        # image is already size of (28x28), no reshape\n",
        "        # label is not one-hot encoded\n",
        "        X = X.to(device)\n",
        "        Y = Y.to(device)\n",
        "\n",
        "        optimizer.zero_grad()\n",
        "        hypothesis = model(X)\n",
        "        cost = criterion(hypothesis, Y)\n",
        "        cost.backward()\n",
        "        optimizer.step()\n",
        "\n",
        "        avg_cost += cost / total_batch\n",
        "\n",
        "    print('[Epoch: {:>4}] cost = {:>.9}'.format(e + 1, avg_cost))"
      ]
    },
    {
      "cell_type": "code",
      "execution_count": 7,
      "metadata": {
        "colab": {
          "base_uri": "https://localhost:8080/",
          "height": 504
        },
        "id": "HBRkI9qoTDmq",
        "outputId": "3b5a5253-83fc-431c-b27f-b81775cb24b1"
      },
      "outputs": [
        {
          "name": "stderr",
          "output_type": "stream",
          "text": [
            "/opt/homebrew/lib/python3.11/site-packages/torchvision/datasets/mnist.py:80: UserWarning: test_data has been renamed data\n",
            "  warnings.warn(\"test_data has been renamed data\")\n",
            "/opt/homebrew/lib/python3.11/site-packages/torchvision/datasets/mnist.py:70: UserWarning: test_labels has been renamed targets\n",
            "  warnings.warn(\"test_labels has been renamed targets\")\n"
          ]
        },
        {
          "name": "stdout",
          "output_type": "stream",
          "text": [
            "Accuracy: 0.984499990940094\n"
          ]
        }
      ],
      "source": [
        "# 학습을 진행하지 않을 것이므로 torch.no_grad()\n",
        "with torch.no_grad():\n",
        "    X_test = test_data.test_data.view(len(test_data), 1, 28, 28).float().to(device)\n",
        "    Y_test = test_data.test_labels.to(device)\n",
        "\n",
        "    prediction = model(X_test)\n",
        "    correct_prediction = torch.argmax(prediction, 1) == Y_test\n",
        "    accuracy = correct_prediction.float().mean()\n",
        "    print('Accuracy:', accuracy.item())"
      ]
    },
    {
      "cell_type": "code",
      "execution_count": null,
      "metadata": {
        "id": "D1hBznq67reX"
      },
      "outputs": [],
      "source": []
    },
    {
      "cell_type": "code",
      "execution_count": null,
      "metadata": {
        "id": "MjK6I_aR7noB"
      },
      "outputs": [],
      "source": []
    }
  ],
  "metadata": {
    "colab": {
      "provenance": []
    },
    "kernelspec": {
      "display_name": "Python 3",
      "name": "python3"
    },
    "language_info": {
      "codemirror_mode": {
        "name": "ipython",
        "version": 3
      },
      "file_extension": ".py",
      "mimetype": "text/x-python",
      "name": "python",
      "nbconvert_exporter": "python",
      "pygments_lexer": "ipython3",
      "version": "3.11.5"
    }
  },
  "nbformat": 4,
  "nbformat_minor": 0
}
